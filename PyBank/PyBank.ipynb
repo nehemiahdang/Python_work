{
 "cells": [
  {
   "cell_type": "code",
   "execution_count": 230,
   "metadata": {},
   "outputs": [],
   "source": [
    "import os\n",
    "import csv"
   ]
  },
  {
   "cell_type": "code",
   "execution_count": 231,
   "metadata": {},
   "outputs": [],
   "source": [
    "bank_csv = os.path.join('Resources', 'budget_data.csv')"
   ]
  },
  {
   "cell_type": "code",
   "execution_count": 232,
   "metadata": {},
   "outputs": [],
   "source": [
    "total_months = 0\n",
    "total_amount = 0\n",
    "greatInc = 0\n",
    "greatInc_month = 0\n",
    "greatDec = 0\n",
    "greatDec_month = 0\n",
    "total_change = 0\n",
    "average_change = 0\n",
    "daily_change = 0\n",
    "changes = []\n",
    "dates = []"
   ]
  },
  {
   "cell_type": "code",
   "execution_count": 233,
   "metadata": {},
   "outputs": [],
   "source": [
    "with open(bank_csv, 'r') as csvfile:\n",
    "    csvreader = csv.reader(csvfile,delimiter=',')\n",
    "    csv_header = next(csvreader)\n",
    "    \n",
    "    for row in csvreader:\n",
    "        total_months += 1\n",
    "        total_amount = total_amount + int(row[1])\n",
    "\n",
    "        changes.append(float(row[1]) - daily_change)\n",
    "        daily_change = float(row[1])\n",
    "\n",
    "        dates.append(row[0])"
   ]
  },
  {
   "cell_type": "code",
   "execution_count": 234,
   "metadata": {},
   "outputs": [],
   "source": [
    "for i in range(1, len(changes)):\n",
    "    total_change += changes[i]\n",
    "    if greatInc < changes[i]:\n",
    "        greatInc = int(changes[i])\n",
    "        greatInc_month = dates[i]\n",
    "    elif greatDec > changes[i]:\n",
    "        greatDec = int(changes[i])\n",
    "        greatDec_month = dates[i]"
   ]
  },
  {
   "cell_type": "code",
   "execution_count": 235,
   "metadata": {},
   "outputs": [
    {
     "data": {
      "text/plain": [
       "-2315.12"
      ]
     },
     "execution_count": 235,
     "metadata": {},
     "output_type": "execute_result"
    }
   ],
   "source": [
    "average_change = round(total_change / (total_months-1), 2)\n",
    "average_change"
   ]
  },
  {
   "cell_type": "code",
   "execution_count": 236,
   "metadata": {},
   "outputs": [
    {
     "name": "stdout",
     "output_type": "stream",
     "text": [
      "Financial Analysis\n",
      "-------------------------\n",
      "Total Months: 86\n",
      "Total: $ 38382578\n",
      "Average Change: $-2315.12\n",
      "Greatest Increase in Profits: Feb-2012 ($1926159)\n",
      "Greatest Decrease in Profits: Sep-2013 ($-2196167)\n"
     ]
    }
   ],
   "source": [
    "print(\"Financial Analysis\")\n",
    "print(\"-\" * 25)\n",
    "print(f'Total Months: {total_months}')\n",
    "print(f'Total: $ {total_amount}')\n",
    "print(f'Average Change: ${average_change}')\n",
    "print(f'Greatest Increase in Profits: {greatInc_month} (${greatInc})')\n",
    "print(f'Greatest Decrease in Profits: {greatDec_month} (${greatDec})')"
   ]
  },
  {
   "cell_type": "code",
   "execution_count": 237,
   "metadata": {},
   "outputs": [],
   "source": [
    "output_path = os.path.join('Resources', 'output_budget_data.csv')\n",
    "with open(output_path, 'w') as csvfile:\n",
    "    csvwriter = csv.writer(csvfile, delimiter =\",\")\n",
    "    csvwriter.writerow(['Total Months', total_months])\n",
    "    csvwriter.writerow(['Total', total_amount])\n",
    "    csvwriter.writerow(['Average Change', average_change])\n",
    "    csvwriter.writerow(['Greatest Increase in Profits', greatInc_month, greatInc])\n",
    "    csvwriter.writerow(['Greatest Decrease in Profits', greatInc_month, greatInc])"
   ]
  },
  {
   "cell_type": "code",
   "execution_count": null,
   "metadata": {},
   "outputs": [],
   "source": []
  }
 ],
 "metadata": {
  "kernelspec": {
   "display_name": "Python 3",
   "language": "python",
   "name": "python3"
  },
  "language_info": {
   "codemirror_mode": {
    "name": "ipython",
    "version": 3
   },
   "file_extension": ".py",
   "mimetype": "text/x-python",
   "name": "python",
   "nbconvert_exporter": "python",
   "pygments_lexer": "ipython3",
   "version": "3.7.4"
  }
 },
 "nbformat": 4,
 "nbformat_minor": 2
}
